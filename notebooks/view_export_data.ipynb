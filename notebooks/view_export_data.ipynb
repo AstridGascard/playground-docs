{
 "cells": [
  {
   "cell_type": "code",
   "execution_count": null,
   "metadata": {
    "ExecuteTime": {
     "end_time": "2018-05-30T14:20:54.067161Z",
     "start_time": "2018-05-30T14:20:54.054391Z"
    }
   },
   "outputs": [],
   "source": [
    "%load_ext autoreload\n",
    "%autoreload 2"
   ]
  },
  {
   "cell_type": "code",
   "execution_count": null,
   "metadata": {
    "ExecuteTime": {
     "end_time": "2018-05-30T14:20:54.079847Z",
     "start_time": "2018-05-30T14:20:54.069712Z"
    }
   },
   "outputs": [],
   "source": [
    "import os\n",
    "import sys\n",
    "\n",
    "# Add files from module\n",
    "path = \"..\"\n",
    "if path not in sys.path:\n",
    "    sys.path.insert(0, path)"
   ]
  },
  {
   "cell_type": "code",
   "execution_count": null,
   "metadata": {
    "ExecuteTime": {
     "end_time": "2018-05-30T14:20:54.436286Z",
     "start_time": "2018-05-30T14:20:54.082237Z"
    }
   },
   "outputs": [],
   "source": [
    "from playground_utils import PlaygroundExport\n",
    "from playground_utils import PlaygroundViewer"
   ]
  },
  {
   "cell_type": "code",
   "execution_count": null,
   "metadata": {
    "ExecuteTime": {
     "end_time": "2018-05-30T14:20:54.452144Z",
     "start_time": "2018-05-30T14:20:54.439489Z"
    }
   },
   "outputs": [],
   "source": [
    "job_name = \"test-export-new2\"\n",
    "input_dir = \"../example-dataset/\"\n",
    "tags_to_labels = {\"test\": \"test\", \"change\": \"change\"}\n",
    "\n",
    "labels_color = {\"test\": (255, 0, 0), \"change\": (0, 255, 0)}"
   ]
  },
  {
   "cell_type": "code",
   "execution_count": null,
   "metadata": {
    "ExecuteTime": {
     "end_time": "2018-05-30T14:20:54.472062Z",
     "start_time": "2018-05-30T14:20:54.455066Z"
    }
   },
   "outputs": [],
   "source": [
    "plx = PlaygroundExport(input_dir, job_name)\n",
    "print(plx)"
   ]
  },
  {
   "cell_type": "code",
   "execution_count": null,
   "metadata": {
    "ExecuteTime": {
     "end_time": "2018-05-30T14:20:54.486983Z",
     "start_time": "2018-05-30T14:20:54.474635Z"
    }
   },
   "outputs": [],
   "source": [
    "plv = PlaygroundViewer(plx, tags_to_labels, labels_color)"
   ]
  },
  {
   "cell_type": "code",
   "execution_count": null,
   "metadata": {
    "ExecuteTime": {
     "end_time": "2018-05-30T14:20:58.106387Z",
     "start_time": "2018-05-30T14:20:54.489872Z"
    }
   },
   "outputs": [],
   "source": [
    "plv.check_random_tiles(4)"
   ]
  },
  {
   "cell_type": "code",
   "execution_count": null,
   "metadata": {},
   "outputs": [],
   "source": []
  },
  {
   "cell_type": "code",
   "execution_count": null,
   "metadata": {},
   "outputs": [],
   "source": []
  }
 ],
 "metadata": {
  "kernelspec": {
   "display_name": "Python 3",
   "language": "python",
   "name": "python3"
  },
  "language_info": {
   "codemirror_mode": {
    "name": "ipython",
    "version": 3
   },
   "file_extension": ".py",
   "mimetype": "text/x-python",
   "name": "python",
   "nbconvert_exporter": "python",
   "pygments_lexer": "ipython3",
   "version": "3.6.5"
  },
  "toc": {
   "base_numbering": 1,
   "nav_menu": {},
   "number_sections": true,
   "sideBar": true,
   "skip_h1_title": false,
   "title_cell": "Table of Contents",
   "title_sidebar": "Contents",
   "toc_cell": false,
   "toc_position": {},
   "toc_section_display": true,
   "toc_window_display": false
  }
 },
 "nbformat": 4,
 "nbformat_minor": 2
}
